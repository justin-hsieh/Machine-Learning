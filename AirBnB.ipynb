{
 "cells": [
  {
   "cell_type": "code",
   "execution_count": 2,
   "metadata": {
    "colab": {},
    "colab_type": "code",
    "id": "XsUEp8oxvHby"
   },
   "outputs": [],
   "source": [
    "import pandas as pd"
   ]
  },
  {
   "cell_type": "code",
   "execution_count": 9,
   "metadata": {
    "colab": {
     "base_uri": "https://localhost:8080/",
     "height": 296
    },
    "colab_type": "code",
    "id": "OyQgWS0NzE_u",
    "outputId": "cfd5e369-c538-4614-9fff-43c3aa878526"
   },
   "outputs": [
    {
     "name": "stdout",
     "output_type": "stream",
     "text": [
      "Collecting category_encoders\n",
      "\u001b[?25l  Downloading https://files.pythonhosted.org/packages/a0/52/c54191ad3782de633ea3d6ee3bb2837bda0cf3bc97644bb6375cf14150a0/category_encoders-2.1.0-py2.py3-none-any.whl (100kB)\n",
      "\u001b[K     |████████████████████████████████| 102kB 1.4MB/s \n",
      "\u001b[?25hRequirement already satisfied: numpy>=1.11.3 in /usr/local/lib/python3.6/dist-packages (from category_encoders) (1.16.5)\n",
      "Requirement already satisfied: scipy>=0.19.0 in /usr/local/lib/python3.6/dist-packages (from category_encoders) (1.3.1)\n",
      "Requirement already satisfied: statsmodels>=0.6.1 in /usr/local/lib/python3.6/dist-packages (from category_encoders) (0.10.1)\n",
      "Requirement already satisfied: patsy>=0.4.1 in /usr/local/lib/python3.6/dist-packages (from category_encoders) (0.5.1)\n",
      "Requirement already satisfied: scikit-learn>=0.20.0 in /usr/local/lib/python3.6/dist-packages (from category_encoders) (0.21.3)\n",
      "Requirement already satisfied: pandas>=0.21.1 in /usr/local/lib/python3.6/dist-packages (from category_encoders) (0.24.2)\n",
      "Requirement already satisfied: six in /usr/local/lib/python3.6/dist-packages (from patsy>=0.4.1->category_encoders) (1.12.0)\n",
      "Requirement already satisfied: joblib>=0.11 in /usr/local/lib/python3.6/dist-packages (from scikit-learn>=0.20.0->category_encoders) (0.14.0)\n",
      "Requirement already satisfied: python-dateutil>=2.5.0 in /usr/local/lib/python3.6/dist-packages (from pandas>=0.21.1->category_encoders) (2.5.3)\n",
      "Requirement already satisfied: pytz>=2011k in /usr/local/lib/python3.6/dist-packages (from pandas>=0.21.1->category_encoders) (2018.9)\n",
      "Installing collected packages: category-encoders\n",
      "Successfully installed category-encoders-2.1.0\n"
     ]
    }
   ],
   "source": [
    "pip install category_encoders"
   ]
  },
  {
   "cell_type": "code",
   "execution_count": 2,
   "metadata": {
    "colab": {
     "base_uri": "https://localhost:8080/",
     "height": 34
    },
    "colab_type": "code",
    "id": "Sp5R6-bgxyju",
    "outputId": "81ad9236-68e6-4b7c-c9bb-02e9dcf31385"
   },
   "outputs": [
    {
     "data": {
      "text/plain": [
       "(22552, 96)"
      ]
     },
     "execution_count": 2,
     "metadata": {
      "tags": []
     },
     "output_type": "execute_result"
    }
   ],
   "source": [
    "df = pd.read_csv('Downloads/berlin-airbnb-data/listings_summary.csv', engine='python', encoding='utf-8', error_bad_lines=False)\n",
    "df.shape"
   ]
  },
  {
   "cell_type": "code",
   "execution_count": null,
   "metadata": {
    "colab": {},
    "colab_type": "code",
    "id": "0O1fzFEKoZDm"
   },
   "outputs": [],
   "source": [
    "columns = [\n",
    "    'neighbourhood_group_cleansed',\n",
    "    'room_type',\n",
    "    'accommodates',\n",
    "    'bathrooms',\n",
    "    'bedrooms',\n",
    "    'beds',\n",
    "    'bed_type',\n",
    "    'amenities',\n",
    "    'price',\n",
    "    'security_deposit',\n",
    "    'cleaning_fee',\n",
    "    'minimum_nights',\n",
    "    'instant_bookable'         \n",
    "]\n",
    "\n",
    "df = df[columns]"
   ]
  },
  {
   "cell_type": "code",
   "execution_count": 4,
   "metadata": {
    "colab": {
     "base_uri": "https://localhost:8080/",
     "height": 259
    },
    "colab_type": "code",
    "id": "0qLvVzUdVQOv",
    "outputId": "6590b6fc-d06e-4391-e393-8301786fb26a"
   },
   "outputs": [
    {
     "data": {
      "text/plain": [
       "room_type           0\n",
       "accommodates        0\n",
       "bathrooms           0\n",
       "bedrooms            0\n",
       "beds                0\n",
       "bed_type            0\n",
       "amenities           0\n",
       "price               0\n",
       "security_deposit    0\n",
       "cleaning_fee        0\n",
       "minimum_nights      0\n",
       "instant_bookable    0\n",
       "neighborhood        0\n",
       "dtype: int64"
      ]
     },
     "execution_count": 4,
     "metadata": {
      "tags": []
     },
     "output_type": "execute_result"
    }
   ],
   "source": [
    "df['bathrooms'] = df['bathrooms'].fillna(df['bathrooms'].mean()).astype(float)\n",
    "df['bedrooms'] = df['bedrooms'].fillna(df['bedrooms'].mean()).astype(float)\n",
    "df['beds'] = df['beds'].fillna(df['beds'].mean()).astype(float)\n",
    "df['security_deposit'] = df['security_deposit'].fillna('$0.00')\n",
    "df['cleaning_fee'] = df['cleaning_fee'].fillna('$0.00')\n",
    "\n",
    "df['price'] = df['price'].str.replace('$', '').str.replace(',', '').astype(float)\n",
    "df['security_deposit'] = df['security_deposit'].str.replace('$', '').str.replace(',', '').astype(float)\n",
    "df['cleaning_fee'] = df['cleaning_fee'].str.replace('$', '').str.replace(',', '').astype(float)\n",
    "\n",
    "df['neighborhood'] = df['neighbourhood_group_cleansed']\n",
    "df = df.drop(columns=['neighbourhood_group_cleansed'])\n",
    "df.isna().sum()"
   ]
  },
  {
   "cell_type": "code",
   "execution_count": 5,
   "metadata": {
    "colab": {
     "base_uri": "https://localhost:8080/",
     "height": 262
    },
    "colab_type": "code",
    "id": "9oipK0V2Wsu9",
    "outputId": "1801790f-62a6-4520-97b6-197fbba8f43d"
   },
   "outputs": [
    {
     "data": {
      "text/html": [
       "<div>\n",
       "<style scoped>\n",
       "    .dataframe tbody tr th:only-of-type {\n",
       "        vertical-align: middle;\n",
       "    }\n",
       "\n",
       "    .dataframe tbody tr th {\n",
       "        vertical-align: top;\n",
       "    }\n",
       "\n",
       "    .dataframe thead th {\n",
       "        text-align: right;\n",
       "    }\n",
       "</style>\n",
       "<table border=\"1\" class=\"dataframe\">\n",
       "  <thead>\n",
       "    <tr style=\"text-align: right;\">\n",
       "      <th></th>\n",
       "      <th>room_type</th>\n",
       "      <th>accommodates</th>\n",
       "      <th>bathrooms</th>\n",
       "      <th>bedrooms</th>\n",
       "      <th>beds</th>\n",
       "      <th>bed_type</th>\n",
       "      <th>amenities</th>\n",
       "      <th>price</th>\n",
       "      <th>security_deposit</th>\n",
       "      <th>cleaning_fee</th>\n",
       "      <th>minimum_nights</th>\n",
       "      <th>instant_bookable</th>\n",
       "      <th>neighborhood</th>\n",
       "    </tr>\n",
       "  </thead>\n",
       "  <tbody>\n",
       "    <tr>\n",
       "      <th>0</th>\n",
       "      <td>Entire home/apt</td>\n",
       "      <td>3</td>\n",
       "      <td>1.0</td>\n",
       "      <td>1.0</td>\n",
       "      <td>2.0</td>\n",
       "      <td>Real Bed</td>\n",
       "      <td>{TV,\"Cable TV\",Wifi,Kitchen,Gym,Heating,\"Famil...</td>\n",
       "      <td>60.0</td>\n",
       "      <td>200.0</td>\n",
       "      <td>30.0</td>\n",
       "      <td>4</td>\n",
       "      <td>0</td>\n",
       "      <td>Mitte</td>\n",
       "    </tr>\n",
       "    <tr>\n",
       "      <th>1</th>\n",
       "      <td>Private room</td>\n",
       "      <td>2</td>\n",
       "      <td>1.0</td>\n",
       "      <td>1.0</td>\n",
       "      <td>1.0</td>\n",
       "      <td>Real Bed</td>\n",
       "      <td>{Wifi,Kitchen,Elevator,Heating,Washer,Essentia...</td>\n",
       "      <td>17.0</td>\n",
       "      <td>0.0</td>\n",
       "      <td>0.0</td>\n",
       "      <td>2</td>\n",
       "      <td>0</td>\n",
       "      <td>Pankow</td>\n",
       "    </tr>\n",
       "    <tr>\n",
       "      <th>2</th>\n",
       "      <td>Entire home/apt</td>\n",
       "      <td>4</td>\n",
       "      <td>1.0</td>\n",
       "      <td>1.0</td>\n",
       "      <td>2.0</td>\n",
       "      <td>Real Bed</td>\n",
       "      <td>{Internet,Wifi,Kitchen,\"Buzzer/wireless interc...</td>\n",
       "      <td>90.0</td>\n",
       "      <td>200.0</td>\n",
       "      <td>50.0</td>\n",
       "      <td>62</td>\n",
       "      <td>1</td>\n",
       "      <td>Pankow</td>\n",
       "    </tr>\n",
       "    <tr>\n",
       "      <th>3</th>\n",
       "      <td>Private room</td>\n",
       "      <td>2</td>\n",
       "      <td>1.0</td>\n",
       "      <td>1.0</td>\n",
       "      <td>1.0</td>\n",
       "      <td>Pull-out Sofa</td>\n",
       "      <td>{Internet,Wifi,\"Pets allowed\",\"Pets live on th...</td>\n",
       "      <td>26.0</td>\n",
       "      <td>250.0</td>\n",
       "      <td>30.0</td>\n",
       "      <td>5</td>\n",
       "      <td>0</td>\n",
       "      <td>Tempelhof - Schoneberg</td>\n",
       "    </tr>\n",
       "  </tbody>\n",
       "</table>\n",
       "</div>"
      ],
      "text/plain": [
       "         room_type  accommodates  ...  instant_bookable            neighborhood\n",
       "0  Entire home/apt             3  ...                 0                   Mitte\n",
       "1     Private room             2  ...                 0                  Pankow\n",
       "2  Entire home/apt             4  ...                 1                  Pankow\n",
       "3     Private room             2  ...                 0  Tempelhof - Schoneberg\n",
       "\n",
       "[4 rows x 13 columns]"
      ]
     },
     "execution_count": 5,
     "metadata": {
      "tags": []
     },
     "output_type": "execute_result"
    }
   ],
   "source": [
    "df['instant_bookable'] = df['instant_bookable'].replace({'t': 1, 'f': 0})\n",
    "df['neighborhood'] = df['neighborhood'].str.replace('ö', 'o')\n",
    "df.head(4)"
   ]
  },
  {
   "cell_type": "code",
   "execution_count": 6,
   "metadata": {
    "colab": {
     "base_uri": "https://localhost:8080/",
     "height": 311
    },
    "colab_type": "code",
    "id": "EvQg5oT3h3ih",
    "outputId": "df047e25-21a8-4eb2-80cc-04423d252c91"
   },
   "outputs": [
    {
     "data": {
      "text/html": [
       "<div>\n",
       "<style scoped>\n",
       "    .dataframe tbody tr th:only-of-type {\n",
       "        vertical-align: middle;\n",
       "    }\n",
       "\n",
       "    .dataframe tbody tr th {\n",
       "        vertical-align: top;\n",
       "    }\n",
       "\n",
       "    .dataframe thead th {\n",
       "        text-align: right;\n",
       "    }\n",
       "</style>\n",
       "<table border=\"1\" class=\"dataframe\">\n",
       "  <thead>\n",
       "    <tr style=\"text-align: right;\">\n",
       "      <th></th>\n",
       "      <th>room_type</th>\n",
       "      <th>accommodates</th>\n",
       "      <th>bathrooms</th>\n",
       "      <th>bedrooms</th>\n",
       "      <th>beds</th>\n",
       "      <th>bed_type</th>\n",
       "      <th>price</th>\n",
       "      <th>security_deposit</th>\n",
       "      <th>cleaning_fee</th>\n",
       "      <th>minimum_nights</th>\n",
       "      <th>instant_bookable</th>\n",
       "      <th>neighborhood</th>\n",
       "      <th>wifi</th>\n",
       "    </tr>\n",
       "  </thead>\n",
       "  <tbody>\n",
       "    <tr>\n",
       "      <th>0</th>\n",
       "      <td>Entire home/apt</td>\n",
       "      <td>3</td>\n",
       "      <td>1.0</td>\n",
       "      <td>1.0</td>\n",
       "      <td>2.0</td>\n",
       "      <td>Real Bed</td>\n",
       "      <td>60.0</td>\n",
       "      <td>200.0</td>\n",
       "      <td>30.0</td>\n",
       "      <td>4</td>\n",
       "      <td>0</td>\n",
       "      <td>Mitte</td>\n",
       "      <td>1</td>\n",
       "    </tr>\n",
       "    <tr>\n",
       "      <th>1</th>\n",
       "      <td>Private room</td>\n",
       "      <td>2</td>\n",
       "      <td>1.0</td>\n",
       "      <td>1.0</td>\n",
       "      <td>1.0</td>\n",
       "      <td>Real Bed</td>\n",
       "      <td>17.0</td>\n",
       "      <td>0.0</td>\n",
       "      <td>0.0</td>\n",
       "      <td>2</td>\n",
       "      <td>0</td>\n",
       "      <td>Pankow</td>\n",
       "      <td>1</td>\n",
       "    </tr>\n",
       "    <tr>\n",
       "      <th>2</th>\n",
       "      <td>Entire home/apt</td>\n",
       "      <td>4</td>\n",
       "      <td>1.0</td>\n",
       "      <td>1.0</td>\n",
       "      <td>2.0</td>\n",
       "      <td>Real Bed</td>\n",
       "      <td>90.0</td>\n",
       "      <td>200.0</td>\n",
       "      <td>50.0</td>\n",
       "      <td>62</td>\n",
       "      <td>1</td>\n",
       "      <td>Pankow</td>\n",
       "      <td>1</td>\n",
       "    </tr>\n",
       "    <tr>\n",
       "      <th>3</th>\n",
       "      <td>Private room</td>\n",
       "      <td>2</td>\n",
       "      <td>1.0</td>\n",
       "      <td>1.0</td>\n",
       "      <td>1.0</td>\n",
       "      <td>Pull-out Sofa</td>\n",
       "      <td>26.0</td>\n",
       "      <td>250.0</td>\n",
       "      <td>30.0</td>\n",
       "      <td>5</td>\n",
       "      <td>0</td>\n",
       "      <td>Tempelhof - Schoneberg</td>\n",
       "      <td>1</td>\n",
       "    </tr>\n",
       "    <tr>\n",
       "      <th>4</th>\n",
       "      <td>Private room</td>\n",
       "      <td>2</td>\n",
       "      <td>1.0</td>\n",
       "      <td>1.0</td>\n",
       "      <td>2.0</td>\n",
       "      <td>Real Bed</td>\n",
       "      <td>42.0</td>\n",
       "      <td>0.0</td>\n",
       "      <td>0.0</td>\n",
       "      <td>2</td>\n",
       "      <td>0</td>\n",
       "      <td>Pankow</td>\n",
       "      <td>1</td>\n",
       "    </tr>\n",
       "  </tbody>\n",
       "</table>\n",
       "</div>"
      ],
      "text/plain": [
       "         room_type  accommodates  ...            neighborhood  wifi\n",
       "0  Entire home/apt             3  ...                   Mitte     1\n",
       "1     Private room             2  ...                  Pankow     1\n",
       "2  Entire home/apt             4  ...                  Pankow     1\n",
       "3     Private room             2  ...  Tempelhof - Schoneberg     1\n",
       "4     Private room             2  ...                  Pankow     1\n",
       "\n",
       "[5 rows x 13 columns]"
      ]
     },
     "execution_count": 6,
     "metadata": {
      "tags": []
     },
     "output_type": "execute_result"
    }
   ],
   "source": [
    "df['amenities'] = df['amenities'].str.replace('{',\"[\")\n",
    "df['amenities'] = df['amenities'].str.replace('}',\"]\")\n",
    "df['amenities'] = df['amenities'].str.replace('\"',\"\")\n",
    "df['amenities'] = df['amenities'].apply(lambda x: x.lower())\n",
    "\n",
    "df['wifi'] = df['amenities'].str.contains('wifi').astype(str)\n",
    "df['wifi'] = df['wifi'].replace({'True': 1, 'False': 0})\n",
    "df = df.drop(columns='amenities')\n",
    "\n",
    "\n",
    "df.head()"
   ]
  },
  {
   "cell_type": "code",
   "execution_count": 7,
   "metadata": {
    "colab": {
     "base_uri": "https://localhost:8080/",
     "height": 318
    },
    "colab_type": "code",
    "id": "YSnm3pAoUxnk",
    "outputId": "fc26388c-5bf4-4493-d112-6e496d7e2cba"
   },
   "outputs": [
    {
     "data": {
      "text/html": [
       "<div>\n",
       "<style scoped>\n",
       "    .dataframe tbody tr th:only-of-type {\n",
       "        vertical-align: middle;\n",
       "    }\n",
       "\n",
       "    .dataframe tbody tr th {\n",
       "        vertical-align: top;\n",
       "    }\n",
       "\n",
       "    .dataframe thead th {\n",
       "        text-align: right;\n",
       "    }\n",
       "</style>\n",
       "<table border=\"1\" class=\"dataframe\">\n",
       "  <thead>\n",
       "    <tr style=\"text-align: right;\">\n",
       "      <th></th>\n",
       "      <th>accommodates</th>\n",
       "      <th>bathrooms</th>\n",
       "      <th>bedrooms</th>\n",
       "      <th>beds</th>\n",
       "      <th>price</th>\n",
       "      <th>security_deposit</th>\n",
       "      <th>cleaning_fee</th>\n",
       "      <th>minimum_nights</th>\n",
       "      <th>instant_bookable</th>\n",
       "      <th>wifi</th>\n",
       "    </tr>\n",
       "  </thead>\n",
       "  <tbody>\n",
       "    <tr>\n",
       "      <th>count</th>\n",
       "      <td>22552.000000</td>\n",
       "      <td>22552.000000</td>\n",
       "      <td>22552.000000</td>\n",
       "      <td>22552.000000</td>\n",
       "      <td>22552.000000</td>\n",
       "      <td>22552.000000</td>\n",
       "      <td>22552.000000</td>\n",
       "      <td>22552.000000</td>\n",
       "      <td>22552.000000</td>\n",
       "      <td>22552.000000</td>\n",
       "    </tr>\n",
       "    <tr>\n",
       "      <th>mean</th>\n",
       "      <td>2.637460</td>\n",
       "      <td>1.092695</td>\n",
       "      <td>1.161134</td>\n",
       "      <td>1.620558</td>\n",
       "      <td>67.143668</td>\n",
       "      <td>118.284454</td>\n",
       "      <td>18.253991</td>\n",
       "      <td>7.157059</td>\n",
       "      <td>0.311901</td>\n",
       "      <td>0.954106</td>\n",
       "    </tr>\n",
       "    <tr>\n",
       "      <th>std</th>\n",
       "      <td>1.510548</td>\n",
       "      <td>0.329660</td>\n",
       "      <td>0.645898</td>\n",
       "      <td>1.173798</td>\n",
       "      <td>220.266210</td>\n",
       "      <td>304.232661</td>\n",
       "      <td>28.172816</td>\n",
       "      <td>40.665073</td>\n",
       "      <td>0.463280</td>\n",
       "      <td>0.209260</td>\n",
       "    </tr>\n",
       "    <tr>\n",
       "      <th>min</th>\n",
       "      <td>1.000000</td>\n",
       "      <td>0.000000</td>\n",
       "      <td>0.000000</td>\n",
       "      <td>0.000000</td>\n",
       "      <td>0.000000</td>\n",
       "      <td>0.000000</td>\n",
       "      <td>0.000000</td>\n",
       "      <td>1.000000</td>\n",
       "      <td>0.000000</td>\n",
       "      <td>0.000000</td>\n",
       "    </tr>\n",
       "    <tr>\n",
       "      <th>25%</th>\n",
       "      <td>2.000000</td>\n",
       "      <td>1.000000</td>\n",
       "      <td>1.000000</td>\n",
       "      <td>1.000000</td>\n",
       "      <td>30.000000</td>\n",
       "      <td>0.000000</td>\n",
       "      <td>0.000000</td>\n",
       "      <td>2.000000</td>\n",
       "      <td>0.000000</td>\n",
       "      <td>1.000000</td>\n",
       "    </tr>\n",
       "    <tr>\n",
       "      <th>50%</th>\n",
       "      <td>2.000000</td>\n",
       "      <td>1.000000</td>\n",
       "      <td>1.000000</td>\n",
       "      <td>1.000000</td>\n",
       "      <td>45.000000</td>\n",
       "      <td>0.000000</td>\n",
       "      <td>10.000000</td>\n",
       "      <td>2.000000</td>\n",
       "      <td>0.000000</td>\n",
       "      <td>1.000000</td>\n",
       "    </tr>\n",
       "    <tr>\n",
       "      <th>75%</th>\n",
       "      <td>3.000000</td>\n",
       "      <td>1.000000</td>\n",
       "      <td>1.000000</td>\n",
       "      <td>2.000000</td>\n",
       "      <td>70.000000</td>\n",
       "      <td>150.000000</td>\n",
       "      <td>30.000000</td>\n",
       "      <td>4.000000</td>\n",
       "      <td>1.000000</td>\n",
       "      <td>1.000000</td>\n",
       "    </tr>\n",
       "    <tr>\n",
       "      <th>max</th>\n",
       "      <td>16.000000</td>\n",
       "      <td>8.500000</td>\n",
       "      <td>12.000000</td>\n",
       "      <td>22.000000</td>\n",
       "      <td>9000.000000</td>\n",
       "      <td>4280.000000</td>\n",
       "      <td>2000.000000</td>\n",
       "      <td>5000.000000</td>\n",
       "      <td>1.000000</td>\n",
       "      <td>1.000000</td>\n",
       "    </tr>\n",
       "  </tbody>\n",
       "</table>\n",
       "</div>"
      ],
      "text/plain": [
       "       accommodates     bathrooms  ...  instant_bookable          wifi\n",
       "count  22552.000000  22552.000000  ...      22552.000000  22552.000000\n",
       "mean       2.637460      1.092695  ...          0.311901      0.954106\n",
       "std        1.510548      0.329660  ...          0.463280      0.209260\n",
       "min        1.000000      0.000000  ...          0.000000      0.000000\n",
       "25%        2.000000      1.000000  ...          0.000000      1.000000\n",
       "50%        2.000000      1.000000  ...          0.000000      1.000000\n",
       "75%        3.000000      1.000000  ...          1.000000      1.000000\n",
       "max       16.000000      8.500000  ...          1.000000      1.000000\n",
       "\n",
       "[8 rows x 10 columns]"
      ]
     },
     "execution_count": 7,
     "metadata": {
      "tags": []
     },
     "output_type": "execute_result"
    }
   ],
   "source": [
    "df.describe()"
   ]
  },
  {
   "cell_type": "code",
   "execution_count": null,
   "metadata": {
    "colab": {},
    "colab_type": "code",
    "id": "VV5GXjPqZixq"
   },
   "outputs": [],
   "source": [
    "accomodates = [1, 2, 3, 4, 5, 6, 7, 8]\n",
    "bathrooms = [1.0, 1.5, 2.0]\n",
    "bedrooms = [0.0, 1.0, 2.0, 3.0]\n",
    "beds = [1.0, 2.0, 3.0, 4.0]\n",
    "bed_type = [Real Bed, Pull-out Sofa, Futon, Couch, Airbed]\n",
    "instant_bookable = [0, 1] <---boolean\n",
    "minimum_nights = [1, 2, 3, 4, 5, 6, 7]\n",
    "neighborhood = [Friedrichshain-Kreuzberg, Mitte, Pankow, Neukolln]\n",
    "room_type = [Private room, Entire home/apt, Shared room]\n",
    "wifi = [0, 1]  <---boolean"
   ]
  },
  {
   "cell_type": "code",
   "execution_count": null,
   "metadata": {
    "colab": {},
    "colab_type": "code",
    "id": "RL-Vo7UdwrTx"
   },
   "outputs": [],
   "source": [
    "import category_encoders as ce\n",
    "encoder = ce.OrdinalEncoder(cols = [\n",
    "    'neighborhood',\n",
    "    'room_type',\n",
    "    'bed_type'\n",
    "    ])\n",
    "\n",
    "X = df.drop(['price'], axis=1)\n",
    "y = df['price']\n",
    "\n",
    "X_encoded = encoder.fit_transform(X)"
   ]
  },
  {
   "cell_type": "code",
   "execution_count": 12,
   "metadata": {
    "colab": {
     "base_uri": "https://localhost:8080/",
     "height": 34
    },
    "colab_type": "code",
    "id": "6smS_XoNzKkO",
    "outputId": "d31a6ae5-58ba-4ae4-a758-bd3afded8b2e"
   },
   "outputs": [
    {
     "data": {
      "text/plain": [
       "((16914, 12), (5638, 12), (16914,), (5638,))"
      ]
     },
     "execution_count": 12,
     "metadata": {
      "tags": []
     },
     "output_type": "execute_result"
    }
   ],
   "source": [
    "from sklearn.model_selection import train_test_split\n",
    "\n",
    "X_train, X_test, y_train, y_test = train_test_split(X_encoded, y, test_size=0.25)\n",
    "\n",
    "X_train.shape, X_test.shape, y_train.shape, y_test.shape"
   ]
  },
  {
   "cell_type": "code",
   "execution_count": 1,
   "metadata": {
    "colab": {},
    "colab_type": "code",
    "id": "vlEvZXj_z2yR"
   },
   "outputs": [
    {
     "ename": "NameError",
     "evalue": "name 'encoder' is not defined",
     "output_type": "error",
     "traceback": [
      "\u001b[1;31m---------------------------------------------------------------------------\u001b[0m",
      "\u001b[1;31mNameError\u001b[0m                                 Traceback (most recent call last)",
      "\u001b[1;32m<ipython-input-1-277d27c82f80>\u001b[0m in \u001b[0;36m<module>\u001b[1;34m\u001b[0m\n\u001b[0;32m      1\u001b[0m \u001b[1;32mimport\u001b[0m \u001b[0mpickle\u001b[0m\u001b[1;33m\u001b[0m\u001b[1;33m\u001b[0m\u001b[0m\n\u001b[0;32m      2\u001b[0m \u001b[0mfilename\u001b[0m \u001b[1;33m=\u001b[0m \u001b[1;34m'encoder.pkl'\u001b[0m\u001b[1;33m\u001b[0m\u001b[1;33m\u001b[0m\u001b[0m\n\u001b[1;32m----> 3\u001b[1;33m \u001b[0mpickle\u001b[0m\u001b[1;33m.\u001b[0m\u001b[0mdump\u001b[0m\u001b[1;33m(\u001b[0m\u001b[0mencoder\u001b[0m\u001b[1;33m,\u001b[0m \u001b[0mopen\u001b[0m\u001b[1;33m(\u001b[0m\u001b[0mfilename\u001b[0m\u001b[1;33m,\u001b[0m \u001b[1;34m'wb'\u001b[0m\u001b[1;33m)\u001b[0m\u001b[1;33m)\u001b[0m\u001b[1;33m\u001b[0m\u001b[1;33m\u001b[0m\u001b[0m\n\u001b[0m",
      "\u001b[1;31mNameError\u001b[0m: name 'encoder' is not defined"
     ]
    }
   ],
   "source": [
    "import pickle\n",
    "filename = 'encoder.pkl'\n",
    "pickle.dump(encoder, open(filename, 'wb'))"
   ]
  },
  {
   "cell_type": "code",
   "execution_count": null,
   "metadata": {
    "colab": {},
    "colab_type": "code",
    "id": "GRCgVcrr0Tbv"
   },
   "outputs": [],
   "source": [
    "from tensorflow import keras\n",
    "from tensorflow.keras.models import Sequential\n",
    "from tensorflow.keras.layers import Dense\n",
    "inputs = X_train.shape[1]"
   ]
  },
  {
   "cell_type": "code",
   "execution_count": 14,
   "metadata": {
    "colab": {
     "base_uri": "https://localhost:8080/",
     "height": 88
    },
    "colab_type": "code",
    "id": "KzyI38gd0dgX",
    "outputId": "3144d7c1-410c-4be6-e034-ac79a66b7280"
   },
   "outputs": [
    {
     "name": "stdout",
     "output_type": "stream",
     "text": [
      "WARNING:tensorflow:From /usr/local/lib/python3.6/dist-packages/tensorflow_core/python/ops/resource_variable_ops.py:1630: calling BaseResourceVariable.__init__ (from tensorflow.python.ops.resource_variable_ops) with constraint is deprecated and will be removed in a future version.\n",
      "Instructions for updating:\n",
      "If using Keras pass *_constraint arguments to layers.\n"
     ]
    }
   ],
   "source": [
    "model = Sequential()\n",
    "model.add(Dense(128, activation='relu', input_shape=(inputs,)))\n",
    "model.add(Dense(128, activation='relu'))\n",
    "model.add(Dense(128, activation='relu'))\n",
    "model.add(Dense(128, activation='relu'))\n",
    "model.add(Dense(1))"
   ]
  },
  {
   "cell_type": "code",
   "execution_count": 15,
   "metadata": {
    "colab": {
     "base_uri": "https://localhost:8080/",
     "height": 814
    },
    "colab_type": "code",
    "id": "jeSTACK20kma",
    "outputId": "6e23f53b-1a19-4234-eff2-102bec54fbf9"
   },
   "outputs": [
    {
     "name": "stdout",
     "output_type": "stream",
     "text": [
      "WARNING:tensorflow:From /usr/local/lib/python3.6/dist-packages/tensorflow_core/python/keras/optimizer_v2/adagrad.py:107: calling Constant.__init__ (from tensorflow.python.ops.init_ops) with dtype is deprecated and will be removed in a future version.\n",
      "Instructions for updating:\n",
      "Call initializer instance with the dtype argument instead of passing it to the constructor\n",
      "Train on 11332 samples, validate on 5582 samples\n",
      "Epoch 1/20\n",
      "11332/11332 [==============================] - 1s 109us/sample - loss: 41.1732 - mean_absolute_error: 41.1732 - val_loss: 29.1727 - val_mean_absolute_error: 29.1727\n",
      "Epoch 2/20\n",
      "11332/11332 [==============================] - 1s 72us/sample - loss: 35.4773 - mean_absolute_error: 35.4773 - val_loss: 27.6402 - val_mean_absolute_error: 27.6402\n",
      "Epoch 3/20\n",
      "11332/11332 [==============================] - 1s 73us/sample - loss: 34.4778 - mean_absolute_error: 34.4779 - val_loss: 27.1355 - val_mean_absolute_error: 27.1354\n",
      "Epoch 4/20\n",
      "11332/11332 [==============================] - 1s 68us/sample - loss: 33.8182 - mean_absolute_error: 33.8182 - val_loss: 26.5091 - val_mean_absolute_error: 26.5091\n",
      "Epoch 5/20\n",
      "11332/11332 [==============================] - 1s 82us/sample - loss: 33.3863 - mean_absolute_error: 33.3863 - val_loss: 26.2597 - val_mean_absolute_error: 26.2597\n",
      "Epoch 6/20\n",
      "11332/11332 [==============================] - 1s 70us/sample - loss: 32.9953 - mean_absolute_error: 32.9953 - val_loss: 26.0502 - val_mean_absolute_error: 26.0502\n",
      "Epoch 7/20\n",
      "11332/11332 [==============================] - 1s 75us/sample - loss: 32.7104 - mean_absolute_error: 32.7104 - val_loss: 25.7081 - val_mean_absolute_error: 25.7081\n",
      "Epoch 8/20\n",
      "11332/11332 [==============================] - 1s 71us/sample - loss: 32.4974 - mean_absolute_error: 32.4974 - val_loss: 25.6332 - val_mean_absolute_error: 25.6332\n",
      "Epoch 9/20\n",
      "11332/11332 [==============================] - 1s 72us/sample - loss: 32.3651 - mean_absolute_error: 32.3651 - val_loss: 25.6725 - val_mean_absolute_error: 25.6725\n",
      "Epoch 10/20\n",
      "11332/11332 [==============================] - 1s 73us/sample - loss: 32.2418 - mean_absolute_error: 32.2418 - val_loss: 26.7585 - val_mean_absolute_error: 26.7585\n",
      "Epoch 11/20\n",
      "11332/11332 [==============================] - 1s 72us/sample - loss: 32.1399 - mean_absolute_error: 32.1399 - val_loss: 26.4569 - val_mean_absolute_error: 26.4569\n",
      "Epoch 12/20\n",
      "11332/11332 [==============================] - 1s 71us/sample - loss: 31.9889 - mean_absolute_error: 31.9889 - val_loss: 25.1738 - val_mean_absolute_error: 25.1738\n",
      "Epoch 13/20\n",
      "11332/11332 [==============================] - 1s 72us/sample - loss: 31.9183 - mean_absolute_error: 31.9183 - val_loss: 25.0950 - val_mean_absolute_error: 25.0950\n",
      "Epoch 14/20\n",
      "11332/11332 [==============================] - 1s 73us/sample - loss: 31.8517 - mean_absolute_error: 31.8517 - val_loss: 25.1271 - val_mean_absolute_error: 25.1271\n",
      "Epoch 15/20\n",
      "11332/11332 [==============================] - 1s 73us/sample - loss: 31.7816 - mean_absolute_error: 31.7816 - val_loss: 25.0061 - val_mean_absolute_error: 25.0061\n",
      "Epoch 16/20\n",
      "11332/11332 [==============================] - 1s 71us/sample - loss: 31.7176 - mean_absolute_error: 31.7176 - val_loss: 24.9255 - val_mean_absolute_error: 24.9255\n",
      "Epoch 17/20\n",
      "11332/11332 [==============================] - 1s 73us/sample - loss: 31.6852 - mean_absolute_error: 31.6852 - val_loss: 24.8703 - val_mean_absolute_error: 24.8703\n",
      "Epoch 18/20\n",
      "11332/11332 [==============================] - 1s 76us/sample - loss: 31.5997 - mean_absolute_error: 31.5997 - val_loss: 24.8058 - val_mean_absolute_error: 24.8058\n",
      "Epoch 19/20\n",
      "11332/11332 [==============================] - 1s 71us/sample - loss: 31.5652 - mean_absolute_error: 31.5652 - val_loss: 24.8221 - val_mean_absolute_error: 24.8221\n",
      "Epoch 20/20\n",
      "11332/11332 [==============================] - 1s 70us/sample - loss: 31.4981 - mean_absolute_error: 31.4981 - val_loss: 24.7750 - val_mean_absolute_error: 24.7750\n"
     ]
    },
    {
     "data": {
      "text/plain": [
       "<tensorflow.python.keras.callbacks.History at 0x7f8fc4ed6be0>"
      ]
     },
     "execution_count": 15,
     "metadata": {
      "tags": []
     },
     "output_type": "execute_result"
    }
   ],
   "source": [
    "# Compile Model\n",
    "model.compile(optimizer='adagrad', loss='mae', metrics=['mae'])\n",
    "\n",
    "# Fit Model\n",
    "\n",
    "model.fit(X_train, y_train, \n",
    "          validation_split=0.33,\n",
    "          epochs=20\n",
    "         )"
   ]
  },
  {
   "cell_type": "code",
   "execution_count": 16,
   "metadata": {
    "colab": {
     "base_uri": "https://localhost:8080/",
     "height": 34
    },
    "colab_type": "code",
    "id": "MhwAHYcS1CIe",
    "outputId": "2ca3e3bb-8d86-4f6b-d166-f1ce6c456ad5"
   },
   "outputs": [
    {
     "data": {
      "text/plain": [
       "30.27615238039491"
      ]
     },
     "execution_count": 16,
     "metadata": {
      "tags": []
     },
     "output_type": "execute_result"
    }
   ],
   "source": [
    "from sklearn.metrics import mean_absolute_error\n",
    "\n",
    "preds = model.predict(X_test)\n",
    "mean_absolute_error(preds, y_test)"
   ]
  },
  {
   "cell_type": "code",
   "execution_count": 17,
   "metadata": {
    "colab": {
     "base_uri": "https://localhost:8080/",
     "height": 88
    },
    "colab_type": "code",
    "id": "78-tGeaM1FNa",
    "outputId": "03f3e5d9-f59f-4648-8dd4-435dc145e992"
   },
   "outputs": [
    {
     "name": "stderr",
     "output_type": "stream",
     "text": [
      "/usr/local/lib/python3.6/dist-packages/sklearn/ensemble/forest.py:245: FutureWarning: The default value of n_estimators will change from 10 in version 0.20 to 100 in 0.22.\n",
      "  \"10 in version 0.20 to 100 in 0.22.\", FutureWarning)\n"
     ]
    },
    {
     "data": {
      "text/plain": [
       "27.36839304717985"
      ]
     },
     "execution_count": 17,
     "metadata": {
      "tags": []
     },
     "output_type": "execute_result"
    }
   ],
   "source": [
    "from sklearn.ensemble import RandomForestRegressor\n",
    "rfr = RandomForestRegressor(random_state=42)\n",
    "\n",
    "\n",
    "rfr.fit(X_train, y_train)\n",
    "preds = rfr.predict(X_test)\n",
    "mean_absolute_error(preds, y_test)"
   ]
  },
  {
   "cell_type": "code",
   "execution_count": 18,
   "metadata": {
    "colab": {
     "base_uri": "https://localhost:8080/",
     "height": 68
    },
    "colab_type": "code",
    "id": "QOax9zoR1SJA",
    "outputId": "965d353c-bd67-4711-d99d-20f5e7d61d43"
   },
   "outputs": [
    {
     "data": {
      "text/plain": [
       "array([0.01966198, 0.06674001, 0.04516031, 0.04987846, 0.05114629,\n",
       "       0.02157156, 0.12683606, 0.16859495, 0.19374894, 0.04558842,\n",
       "       0.19179855, 0.01927447])"
      ]
     },
     "execution_count": 18,
     "metadata": {
      "tags": []
     },
     "output_type": "execute_result"
    }
   ],
   "source": [
    "rfr.feature_importances_"
   ]
  },
  {
   "cell_type": "code",
   "execution_count": null,
   "metadata": {
    "colab": {},
    "colab_type": "code",
    "id": "3EGY-WPm1QFp"
   },
   "outputs": [],
   "source": [
    "import pickle\n",
    "filename = 'model.pkl'\n",
    "pickle.dump(rfr, open(filename, 'wb'))"
   ]
  }
 ],
 "metadata": {
  "colab": {
   "name": "AirBnB.ipynb",
   "provenance": []
  },
  "kernelspec": {
   "display_name": "Python 3",
   "language": "python",
   "name": "python3"
  },
  "language_info": {
   "codemirror_mode": {
    "name": "ipython",
    "version": 3
   },
   "file_extension": ".py",
   "mimetype": "text/x-python",
   "name": "python",
   "nbconvert_exporter": "python",
   "pygments_lexer": "ipython3",
   "version": "3.7.4"
  }
 },
 "nbformat": 4,
 "nbformat_minor": 4
}
